{
 "cells": [
  {
   "cell_type": "markdown",
   "metadata": {},
   "source": [
    "# Python Basics Recap"
   ]
  },
  {
   "cell_type": "markdown",
   "metadata": {},
   "source": [
    "This initial session will act as a recap for the basics of the Python language. (Or at least, all the important stuff from the basics, anyway...)"
   ]
  },
  {
   "cell_type": "markdown",
   "metadata": {},
   "source": [
    "## Functions"
   ]
  },
  {
   "cell_type": "markdown",
   "metadata": {},
   "source": [
    "In Python, one uses the `def` keyword to start a user defined function. The actual syntax for a function definition would be `def(parameter1, parameter2, ...):` followed by an indented code block. The arguments passed to the function will be be the values assigned to the function parameters, and if the function is to return a value, the keyword `return` will be placed at the end of the function.\n",
    "\n",
    "If a function returns a value, this value can be assigned to a variable, like in the code below:"
   ]
  },
  {
   "cell_type": "code",
   "execution_count": null,
   "metadata": {
    "collapsed": false
   },
   "outputs": [],
   "source": [
    "#Function example 1: a function that returns a value\n",
    "def return_function(num):\n",
    "    return num**2 - 1\n",
    "\n",
    "#Function example 2: a function that doesn't return a value\n",
    "def non_return_function(num):\n",
    "    if num%2 == 0: #Modulo operator, basically says 'if num/2 has a remainder of 0'\n",
    "        print \"The argument is even\"\n",
    "    else:\n",
    "        print \"The argument is odd\"\n",
    "\n",
    "x = 2\n",
    "test = return_function(x) #Assign the returned value to the variable 'test'\n",
    "print test\n",
    "non_return_function(x)"
   ]
  },
  {
   "cell_type": "markdown",
   "metadata": {},
   "source": [
    "## Lists"
   ]
  },
  {
   "cell_type": "markdown",
   "metadata": {},
   "source": [
    "Lists are one of the most useful data types in basic Python and can be used for multiple data types including strings, numbers, or Boolean values"
   ]
  },
  {
   "cell_type": "code",
   "execution_count": null,
   "metadata": {
    "collapsed": false
   },
   "outputs": [],
   "source": [
    "x = [1,2,3,4]\n",
    "y = [1,2,True,'a']\n",
    "\n",
    "print x\n",
    "print y"
   ]
  },
  {
   "cell_type": "markdown",
   "metadata": {},
   "source": [
    "Lists have a number of built-in methods for appending, removing, or searching data therein. \n",
    "Recall the lists in the previous cell, `x` and `y` and we will use these for examples of the more commonly used methods for lists:"
   ]
  },
  {
   "cell_type": "code",
   "execution_count": null,
   "metadata": {
    "collapsed": false
   },
   "outputs": [],
   "source": [
    "#We will append the elements 5-8 to the lists x and y\n",
    "\n",
    "#We can do this either individually...\n",
    "print \"The original list x is\", x\n",
    "append = [5,6,7,8]\n",
    "for i in append:\n",
    "    x.append(i)\n",
    "print \"The new list elements are\", x\n",
    "\n",
    "#Or all at once...\n",
    "print \"The original list y is\", y\n",
    "y.extend(append)\n",
    "print \"The new list elements are\", y"
   ]
  },
  {
   "cell_type": "code",
   "execution_count": null,
   "metadata": {
    "collapsed": false
   },
   "outputs": [],
   "source": [
    "#We can also remove elements from these lists via the remove method or the del keyword\n",
    "print 'The current elements in x are:', x\n",
    "x.remove(2) #Remove the element 2 from list x\n",
    "print 'New elements in x are:', x\n",
    "\n",
    "print 'Current elements in y are:', y\n",
    "del y[0] #Remove the element at index 0 (i.e. the first element) from y\n",
    "print 'New elements in y are:', y"
   ]
  },
  {
   "cell_type": "code",
   "execution_count": null,
   "metadata": {
    "collapsed": false
   },
   "outputs": [],
   "source": [
    "#Next, we can search the lists either by element to get a particular index or by index to get an element\n",
    "print y\n",
    "print \"The value True is at index \"+str(y.index(True))+\" in list 'y'\\n\" #Find the index in list x that has the value 1\n",
    "\n",
    "#Using the pop method we can return the element at a given index\n",
    "print y.pop(1)\n",
    "#Note however that this method REMOVES THE ELEMENT FROM THE LIST AFTER USE!\n",
    "print \"Note that the value True is no longer in the list 'y':\\n\"\n",
    "print y"
   ]
  },
  {
   "cell_type": "markdown",
   "metadata": {},
   "source": [
    "In addition to these common methods, there are also several additional tricks you can do to modify lists that you might not see in the typical tutorial. For the sake of brevity, we will only cover two important ones here: list comprehension and the `map` function:\n",
    "* List comprehension applies a description of list elements using `if` and `for` statements to generate elements in a list without resorting to a standard `for`/`append` loop or creating lists manually\n",
    "* The `map` function allows you to apply a single function to all elements of a list at the same time. The `map` function can also be used in conjunction with the `lambda` keyword to create anonymous functions. (We'll give an example of both in the next cell)\n",
    "\n",
    "We will continue to use `x` and `y` for the examples below, but we will also add in a list `z` created by list comprehension."
   ]
  },
  {
   "cell_type": "code",
   "execution_count": null,
   "metadata": {
    "collapsed": false
   },
   "outputs": [],
   "source": [
    "#Still using our lists x and y for comparison, we can create an equivalent list z without doing much extra code writing\n",
    "print \"Elements in list x are:\", x\n",
    "z = [i for i in range(1,9) if i != 2] #An example of list comprehension\n",
    "print \"Elements in list z are:\", z\n",
    "\n",
    "if z == x:\n",
    "    print \"The lists are the same!\" \n",
    "else:\n",
    "    print \"Lists are in error!\"\n",
    "    \n",
    "#NOTE: This sort of comprehension also works on dictionaries, sets, and tuples!"
   ]
  },
  {
   "cell_type": "code",
   "execution_count": null,
   "metadata": {
    "collapsed": false
   },
   "outputs": [],
   "source": [
    "## Now, we will use the map function to convert every element in x to a string simultaneously\n",
    "print \"Original x list:\", x\n",
    "new_x = map(str, x)\n",
    "print \"New x list:\", new_x, \"\\n\"\n",
    "\n",
    "#NOTE: This is also equivalent to the list comprehension new_x = [str(i) for i in x]\n",
    "\n",
    "#We can also apply the lambda keyword in conjunction with map to produce short anonymous functions\n",
    "print \"Original z list:\", z\n",
    "new_z = map(lambda(a): a**2 - 1, z) #Anonymous function to square every element and subtract 1\n",
    "print \"Original z list:\", new_z"
   ]
  },
  {
   "cell_type": "markdown",
   "metadata": {},
   "source": [
    "## Loops"
   ]
  },
  {
   "cell_type": "markdown",
   "metadata": {},
   "source": [
    "Python has two main keywords that are used for looping: `while` and `for`:\n",
    "* `While` loops evaluate a set of commands as long as a logical condition holds true. These loops are useful if you do not know the particular number of times you need to loop through a set of commands or do not have a particular iterable to loop through. However, using while loops can be dangerous if you are not careful. Depending on how your code is set up, you can accidentally create an **infinite loop!** Here's a quick example:"
   ]
  },
  {
   "cell_type": "code",
   "execution_count": null,
   "metadata": {
    "collapsed": true
   },
   "outputs": [],
   "source": [
    "#q = 0\n",
    "#while q < 1:\n",
    "#    print \"Noooo! You've created an infinite loop!\"\n",
    "\n",
    "#The code above would create an infinite loop because, \n",
    "#as long as there's no change in the value of x each time, the while condition will always evaluate to True "
   ]
  },
  {
   "cell_type": "markdown",
   "metadata": {},
   "source": [
    "* `For` loops are more useful constructs because they generally offer more control to the programmer. This type of loop iterates either through a specified range of values (e.g. `for i in range(0,100):`) or through an iterable object element by element (e.g. `for i in a_list:`)"
   ]
  },
  {
   "cell_type": "code",
   "execution_count": null,
   "metadata": {
    "collapsed": false
   },
   "outputs": [],
   "source": [
    "p = 0\n",
    "for i in range(0,10): #Loops through values 0-9 due to Python's zero-based indexing\n",
    "    print p\n",
    "    p += 1 #This is just a simpler way to write x = x + 1"
   ]
  },
  {
   "cell_type": "code",
   "execution_count": null,
   "metadata": {
    "collapsed": false
   },
   "outputs": [],
   "source": [
    "#Looping through a list or other iterable object is very similar, except you do not necessarily need to spell out the range\n",
    "#(unless you are looping over a slice of the object)\n",
    "print \"Element: Index:\"\n",
    "for i in y:\n",
    "    print i, \"\\t\", y.index(i)"
   ]
  },
  {
   "cell_type": "markdown",
   "metadata": {
    "collapsed": true
   },
   "source": [
    "## Dictionaries"
   ]
  },
  {
   "cell_type": "markdown",
   "metadata": {
    "collapsed": false
   },
   "source": [
    "Probably the second-most used data type in Python is the key/value hash table known as the dictionary. Dictionaries are written as sets of key/value pairs, and keys are unique within each dictionary. Dictionaries are set up using curly braces `{}` with each key and value separated by a colon `:` and every key/value combo separated with a comma `,`. Keys must also be immutable data types (like strings or numbers); however, values can be pretty much anything, including another dictionary."
   ]
  },
  {
   "cell_type": "code",
   "execution_count": null,
   "metadata": {
    "collapsed": false
   },
   "outputs": [],
   "source": [
    "test = {'a': 1, 'b':2, 'c':3}\n",
    "print \"The value corresponding to key 'a' is:\", test['a']"
   ]
  },
  {
   "cell_type": "code",
   "execution_count": null,
   "metadata": {
    "collapsed": true
   },
   "outputs": [],
   "source": [
    "#As mentioned above, dictionary values can be any type, so we can easily have something like this:\n",
    "test2 = {'d':[True, False, True], 'e':(5,6), 'f':0}"
   ]
  },
  {
   "cell_type": "code",
   "execution_count": null,
   "metadata": {
    "collapsed": false
   },
   "outputs": [],
   "source": [
    "print test2"
   ]
  },
  {
   "cell_type": "markdown",
   "metadata": {},
   "source": [
    "Note that the key/value pairs in the `test2` dictionary appear in a different order than we initially assigned them. This is because Python dictionaries are by nature unordered and therefore are sorted according to Python's internal logic. If for whatever reason you ever need a dictionary in a certain order, you can use the `OrderedDict` data type instead."
   ]
  },
  {
   "cell_type": "code",
   "execution_count": null,
   "metadata": {
    "collapsed": false
   },
   "outputs": [],
   "source": [
    "#We can also call all the keys, values, or just the overall items using dictionary methods:\n",
    "\n",
    "#These two methods create lists for output\n",
    "print test.keys()\n",
    "print test.values()\n",
    "\n",
    "#However, items() creates key/value tuples as output\n",
    "print test.items() "
   ]
  },
  {
   "cell_type": "markdown",
   "metadata": {},
   "source": [
    "We can also manipulate the dictionaries themselves either by merging or by removing values:"
   ]
  },
  {
   "cell_type": "code",
   "execution_count": null,
   "metadata": {
    "collapsed": false
   },
   "outputs": [],
   "source": [
    "#The update function is used to effectively merge two dictionaries by adding the key/value pairs from one to the other\n",
    "#In this case, the key/value pairs from test2 are being added to test\n",
    "test.update(test2)\n",
    "print \"The new combined dictionary:\"\n",
    "print test\n",
    "\n",
    "#We can remove individual key/value pairs via the del keyword (like we did with lists)\n",
    "del test['e']\n",
    "print \"Test dictionary with 'e' removed:\"\n",
    "print test\n",
    "\n",
    "#We can remove every value from the new dictionary as well, using the 'clear' method\n",
    "test.clear()\n",
    "print \"\\nEmptied out dictionary:\", test"
   ]
  },
  {
   "cell_type": "markdown",
   "metadata": {},
   "source": [
    "## Tuples"
   ]
  },
  {
   "cell_type": "markdown",
   "metadata": {},
   "source": [
    "Tuples act much like lists in Python in terms of slicing and data storage; however, tuples differ in a few key respects. Namely...\n",
    "* Tuples are immutable, while lists are not. This means tuples can be used as keys for dictionaries\n",
    "* Because of their immutability, tuples are faster and simpler, and by extension...\n",
    "* There are fewer associated methods with tuples\n",
    "\n",
    "To create a tuple, simply use parentheses `()` around a sequence of strings, numbers, etc. instead of brackets `[]` or curly braces `{}`"
   ]
  },
  {
   "cell_type": "code",
   "execution_count": null,
   "metadata": {
    "collapsed": false
   },
   "outputs": [],
   "source": [
    "a_tuple = (1,2,3)\n",
    "\n",
    "#There are only two key methods for tuples:count, which tells the frequency of a value within a tuple, and\n",
    "#index, which tells the index where a value is located\n",
    "count_of_2 = a_tuple.count(2)\n",
    "print \"The number 2 appears in a_tuple \"+str(count_of_2)+\" time(s)!\"\n",
    "\n",
    "index_of_3 = a_tuple.index(3)\n",
    "print \"The number 3 appears in a_tuple at index \"+str(index_of_3)"
   ]
  }
 ],
 "metadata": {
  "kernelspec": {
   "display_name": "Python 2",
   "language": "python",
   "name": "python2"
  },
  "language_info": {
   "codemirror_mode": {
    "name": "ipython",
    "version": 2
   },
   "file_extension": ".py",
   "mimetype": "text/x-python",
   "name": "python",
   "nbconvert_exporter": "python",
   "pygments_lexer": "ipython2",
   "version": "2.7.13"
  }
 },
 "nbformat": 4,
 "nbformat_minor": 2
}
